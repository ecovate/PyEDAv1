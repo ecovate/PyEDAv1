{
 "cells": [
  {
   "cell_type": "code",
   "execution_count": 1,
   "metadata": {},
   "outputs": [
    {
     "name": "stdout",
     "output_type": "stream",
     "text": [
      "The letter/word 'n' occurs 15% of the time in 'I am a beginner and I wish to learn Python.'\n"
     ]
    }
   ],
   "source": [
    "theString = 'I am a beginner and I wish to learn Python.'\n",
    "theCount = 0\n",
    "theSearchKey = 'n'\n",
    "\n",
    "for AnyLetter in theString:\n",
    "    if AnyLetter == theSearchKey:\n",
    "        theCount = theCount + 1\n",
    "\n",
    "print('The letter/word ' + \"'\" + theSearchKey + \"'\" + ' occurs ' + str(round(theCount / len(theString.replace(\" \",\"\"))*100)) + '% of the time in ' + \"'\" + theString + \"'\")"
   ]
  },
  {
   "cell_type": "markdown",
   "metadata": {},
   "source": [
    "## New test"
   ]
  },
  {
   "cell_type": "code",
   "execution_count": null,
   "metadata": {
    "collapsed": true
   },
   "outputs": [],
   "source": []
  }
 ],
 "metadata": {
  "kernelspec": {
   "display_name": "Python 3",
   "language": "python",
   "name": "python3"
  },
  "language_info": {
   "codemirror_mode": {
    "name": "ipython",
    "version": 3
   },
   "file_extension": ".py",
   "mimetype": "text/x-python",
   "name": "python",
   "nbconvert_exporter": "python",
   "pygments_lexer": "ipython3",
   "version": "3.6.1"
  }
 },
 "nbformat": 4,
 "nbformat_minor": 2
}
