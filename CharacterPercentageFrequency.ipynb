theString = 'I am a beginner and I wish to learn Python.'
theCount = 0
theSearchKey = 'n'

for AnyLetter in theString:
    if AnyLetter == theSearchKey:
        theCount = theCount + 1

print('The letter/word ' + "'" + theSearchKey + "'" + ' occurs ' + str(round(theCount / len(theString.replace(" ",""))*100)) + '% of the time in ' + "'" + theString + "'")
